{
  "cells": [
    {
      "cell_type": "markdown",
      "metadata": {},
      "source": [
        "## Title:\n",
        "Tools for Data Science"
      ]
    },
    {
      "cell_type": "markdown",
      "metadata": {
        "jp-MarkdownHeadingCollapsed": true
      },
      "source": [
        "## Introduction\n",
        "This notebook covers various exercises related to Data Science, including the use of languages, libraries, tools, and basic arithmetic operations."
      ]
    },
    {
      "cell_type": "markdown",
      "metadata": {},
      "source": [
        "## Data Science Languages\n",
        "- Python\n",
        "- R\n",
        "- SQL\n",
        "- Julia\n",
        "- Scala"
      ]
    },
    {
      "cell_type": "markdown",
      "metadata": {},
      "source": [
        "## Data Science Libraries\n",
        "- Pandas\n",
        "- NumPy\n",
        "- Matplotlib\n",
        "- Scikit-learn\n",
        "- TensorFlow\n",
        "- Keras\n",
        "- ggplot2\n",
        "- dplyr"
      ]
    },
    {
      "cell_type": "markdown",
      "metadata": {},
      "source": [
        "## Data Science Tools\n",
        "| Tool             | Description                              |\n",
        "|------------------|------------------------------------------|\n",
        "| Jupyter Notebook | Interactive computing environment       |\n",
        "| RStudio          | IDE for R                                |\n",
        "| Apache Spark     | Cluster-computing framework             |\n",
        "| TensorFlow       | Machine learning framework              |\n",
        "| Tableau          | Data visualization software             |\n"
      ]
    },
    {
      "cell_type": "markdown",
      "metadata": {},
      "source": [
        "## Arithmetic Expression Examples\n",
        "Below are examples of simple arithmetic operations in Python."
      ]
    },
    {
      "cell_type": "code",
      "execution_count": 3,
      "metadata": {
        "trusted": true
      },
      "outputs": [
        {
          "data": {
            "text/plain": [
              "(150, 25)"
            ]
          },
          "execution_count": 3,
          "metadata": {},
          "output_type": "execute_result"
        }
      ],
      "source": [
        "# Multiplying and adding numbers\n",
        "a = 10\n",
        "b = 15\n",
        "product = a * b\n",
        "sum = a + b\n",
        "product, sum"
      ]
    },
    {
      "cell_type": "code",
      "execution_count": 2,
      "metadata": {
        "trusted": true
      },
      "outputs": [
        {
          "data": {
            "text/plain": [
              "2.5"
            ]
          },
          "execution_count": 2,
          "metadata": {},
          "output_type": "execute_result"
        }
      ],
      "source": [
        "# Converting minutes to hours\n",
        "minutes = 150\n",
        "hours = minutes / 60\n",
        "hours"
      ]
    },
    {
      "cell_type": "markdown",
      "metadata": {},
      "source": [
        "## Objectives\n",
        "- Understand data science languages\n",
        "- Learn about data science libraries\n",
        "- Explore various data science tools\n",
        "- Practice basic arithmetic operations in Python"
      ]
    },
    {
      "cell_type": "markdown",
      "metadata": {},
      "source": [
        "## Author\n",
        "Navneet Sharma"
      ]
    }
  ],
  "metadata": {
    "kernelspec": {
      "display_name": "base",
      "language": "python",
      "name": "python3"
    },
    "language_info": {
      "codemirror_mode": {
        "name": "ipython",
        "version": 3
      },
      "file_extension": ".py",
      "mimetype": "text/x-python",
      "name": "python",
      "nbconvert_exporter": "python",
      "pygments_lexer": "ipython3",
      "version": "3.11.5"
    }
  },
  "nbformat": 4,
  "nbformat_minor": 4
}
